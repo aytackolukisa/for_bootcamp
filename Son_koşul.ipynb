{
 "cells": [
  {
   "cell_type": "code",
   "execution_count": 1,
   "metadata": {},
   "outputs": [],
   "source": [
    "def sıc():\n",
    "    a = str(input(\"Lütfen çevirmek istediğiniz sıckalık birimini giriniz C/F\"))\n",
    "    if a==\"C\":\n",
    "        try :\n",
    "            C = int(input(\"Çevrimek istediğinizi santigiratı giriniz\"))\n",
    "            F = C*(9/5)+32 \n",
    "            return print(\"{} Santigrat {} Ferhanayt\".format(C,F))\n",
    "        except ValueError :\n",
    "                print(\"Lütfen geçerli bir sayı giriniz\")\n",
    "    elif a==\"F\":\n",
    "        try :\n",
    "            F = int(input (\"Çevrimek istediğinizi Ferhanaytı giriniz\"))\n",
    "            C = (5/9) * (F-32) \n",
    "            return print(\"{} Ferhanayt {} Santigrat\".format(F,C))\n",
    "        except ValueError :\n",
    "                print(\"Lütfen geçerli bir sayı giriniz\")\n",
    "    else :\n",
    "        print(\"C veya F giriniz\")"
   ]
  },
  {
   "cell_type": "code",
   "execution_count": 2,
   "metadata": {},
   "outputs": [
    {
     "name": "stdout",
     "output_type": "stream",
     "text": [
      "Lütfen çevirmek istediğiniz sıckalık birimini giriniz C/F23\n",
      "C veya F giriniz\n"
     ]
    }
   ],
   "source": [
    "sıc()"
   ]
  },
  {
   "cell_type": "code",
   "execution_count": 3,
   "metadata": {},
   "outputs": [
    {
     "name": "stdout",
     "output_type": "stream",
     "text": [
      "Lütfen çevirmek istediğiniz sıckalık birimini giriniz C/FC\n",
      "Çevrimek istediğinizi santigiratı giriniz43\n",
      "43 Santigrat 109.4 Ferhanayt\n"
     ]
    }
   ],
   "source": [
    "sıc()"
   ]
  },
  {
   "cell_type": "code",
   "execution_count": 4,
   "metadata": {},
   "outputs": [],
   "source": [
    "def ters ():\n",
    "    kelime = []\n",
    "    a = str(input((\"lütfen bir isim giriniz\")))\n",
    "    for i in a:\n",
    "        kelime.append(i)\n",
    "    kelime.reverse()\n",
    "    print(kelime)\n",
    "    "
   ]
  },
  {
   "cell_type": "code",
   "execution_count": 5,
   "metadata": {},
   "outputs": [
    {
     "name": "stdout",
     "output_type": "stream",
     "text": [
      "lütfen bir isim girinizarda\n",
      "['a', 'd', 'r', 'a']\n"
     ]
    }
   ],
   "source": [
    "ters()"
   ]
  },
  {
   "cell_type": "code",
   "execution_count": 6,
   "metadata": {},
   "outputs": [],
   "source": [
    "def fib (n):\n",
    "    a=0\n",
    "    b=1\n",
    "    print (a)\n",
    "    print (b)\n",
    "    for i in range(2,n):\n",
    "        c = a+b\n",
    "        a = b\n",
    "        b = c\n",
    "        print(c)\n",
    "        "
   ]
  },
  {
   "cell_type": "code",
   "execution_count": 7,
   "metadata": {},
   "outputs": [
    {
     "name": "stdout",
     "output_type": "stream",
     "text": [
      "0\n",
      "1\n",
      "1\n",
      "2\n",
      "3\n",
      "5\n",
      "8\n",
      "13\n",
      "21\n",
      "34\n"
     ]
    }
   ],
   "source": [
    "fib(10)"
   ]
  },
  {
   "cell_type": "code",
   "execution_count": 8,
   "metadata": {},
   "outputs": [],
   "source": [
    "def carpma (n):\n",
    "    for i in range (1,11):\n",
    "        print(i * n)"
   ]
  },
  {
   "cell_type": "code",
   "execution_count": 9,
   "metadata": {},
   "outputs": [
    {
     "name": "stdout",
     "output_type": "stream",
     "text": [
      "7\n",
      "14\n",
      "21\n",
      "28\n",
      "35\n",
      "42\n",
      "49\n",
      "56\n",
      "63\n",
      "70\n"
     ]
    }
   ],
   "source": [
    "carpma (7)"
   ]
  },
  {
   "cell_type": "code",
   "execution_count": 10,
   "metadata": {},
   "outputs": [
    {
     "name": "stdout",
     "output_type": "stream",
     "text": [
      "[1, 8, 9, 64, 25, 216, 49, 512, 81, 1000, 121, 1728, 169, 2744, 225, 4096, 289, 5832, 361, 8000]\n"
     ]
    }
   ],
   "source": [
    "liste = [i**3 if i % 2 == 0 else i **2 for i in range (1,21)]\n",
    "\n",
    "print (liste)"
   ]
  },
  {
   "cell_type": "code",
   "execution_count": null,
   "metadata": {},
   "outputs": [],
   "source": []
  }
 ],
 "metadata": {
  "kernelspec": {
   "display_name": "Python 3",
   "language": "python",
   "name": "python3"
  },
  "language_info": {
   "codemirror_mode": {
    "name": "ipython",
    "version": 3
   },
   "file_extension": ".py",
   "mimetype": "text/x-python",
   "name": "python",
   "nbconvert_exporter": "python",
   "pygments_lexer": "ipython3",
   "version": "3.8.5"
  }
 },
 "nbformat": 4,
 "nbformat_minor": 4
}
