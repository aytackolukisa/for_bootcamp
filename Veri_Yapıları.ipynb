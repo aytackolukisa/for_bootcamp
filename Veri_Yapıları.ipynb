{
 "cells": [
  {
   "cell_type": "code",
   "execution_count": 1,
   "metadata": {},
   "outputs": [],
   "source": [
    "günler = { \"pazartesi\" : 1, \"salı\" : 2, \"çarşamba\" : 3, \"perşembe\" : 4, \"cuma\" : 5, \"cumartesi\" : 6,\"pazar\" : 7}"
   ]
  },
  {
   "cell_type": "code",
   "execution_count": null,
   "metadata": {},
   "outputs": [],
   "source": [
    "input(\"iki tane sayı giriniz sayı giriniz\")"
   ]
  },
  {
   "cell_type": "code",
   "execution_count": null,
   "metadata": {},
   "outputs": [],
   "source": [
    "del günler[\"pazartesi\"]"
   ]
  },
  {
   "cell_type": "code",
   "execution_count": null,
   "metadata": {},
   "outputs": [],
   "source": [
    "del günler[\"salı\"]"
   ]
  },
  {
   "cell_type": "code",
   "execution_count": null,
   "metadata": {},
   "outputs": [],
   "source": [
    "günler"
   ]
  },
  {
   "cell_type": "code",
   "execution_count": null,
   "metadata": {},
   "outputs": [],
   "source": [
    "ay_gün = [(\"Ocak\",31),(\"Şubat\",28),(\"Mart\",31),(\"Nisan\",30),(\"Mayıs\",31),(\"Haziran\",30),(\"Temmuz\",31),(\"Ağustos\",31),(\"Eylül\",30),(\"Ekim\",31),(\"Kasım\",30),(\"Aralık\",31)]"
   ]
  },
  {
   "cell_type": "code",
   "execution_count": null,
   "metadata": {},
   "outputs": [],
   "source": [
    "aylar = [\"Ocak\",\"Şubat\",\"Mart\",\"Nisan\",\"Mayıs\",\"Haziran\",\"Temmuz\",\"Ağustos\",\"Eylül\",\"Ekim\",\"Kasım\",\"Aralık\"] "
   ]
  },
  {
   "cell_type": "code",
   "execution_count": null,
   "metadata": {},
   "outputs": [],
   "source": [
    "günler = [\"pazartesi\",\"salı\",\"çarşamba\",\"perşembe\",\"cuma\",\"cumartesi\",\"pazar\"]"
   ]
  },
  {
   "cell_type": "code",
   "execution_count": null,
   "metadata": {},
   "outputs": [],
   "source": [
    "ay_gün2 = [aylar,günler]"
   ]
  },
  {
   "cell_type": "code",
   "execution_count": null,
   "metadata": {},
   "outputs": [],
   "source": [
    "ay_gün2"
   ]
  },
  {
   "cell_type": "code",
   "execution_count": null,
   "metadata": {},
   "outputs": [],
   "source": [
    "ilkbahar = [(\"Mart\",31),(\"Nisan\",30),(\"Mayıs\",31)]\n",
    "yaz = [(\"Haziran\",30),(\"Temmuz\",31),(\"Ağustos\",31)]\n",
    "sonbahar =[(\"Eylül\",30),(\"Ekim\",31),(\"Kasım\",30)] \n",
    "kış = [(\"Aralık\",31),(\"Ocak\",31),(\"Şubat\",28)]\n",
    "yıl = [ilkbahar,yaz,sonbahar,kış]\n",
    "yazgünleri = yıl[1][0][1]+yıl[1][1][1]+yıl[1][2][1]"
   ]
  },
  {
   "cell_type": "code",
   "execution_count": null,
   "metadata": {},
   "outputs": [],
   "source": [
    "yazgünleri"
   ]
  },
  {
   "cell_type": "code",
   "execution_count": null,
   "metadata": {},
   "outputs": [],
   "source": []
  },
  {
   "cell_type": "code",
   "execution_count": null,
   "metadata": {},
   "outputs": [],
   "source": []
  }
 ],
 "metadata": {
  "kernelspec": {
   "display_name": "Python 3",
   "language": "python",
   "name": "python3"
  },
  "language_info": {
   "codemirror_mode": {
    "name": "ipython",
    "version": 3
   },
   "file_extension": ".py",
   "mimetype": "text/x-python",
   "name": "python",
   "nbconvert_exporter": "python",
   "pygments_lexer": "ipython3",
   "version": "3.8.5"
  }
 },
 "nbformat": 4,
 "nbformat_minor": 4
}
